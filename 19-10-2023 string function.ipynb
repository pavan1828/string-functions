{
 "cells": [
  {
   "cell_type": "markdown",
   "id": "3f3edd86",
   "metadata": {},
   "source": [
    "# STRING FUNCTIONS"
   ]
  },
  {
   "cell_type": "markdown",
   "id": "70b2e8bd",
   "metadata": {},
   "source": [
    "### find():"
   ]
  },
  {
   "cell_type": "markdown",
   "id": "e0a276de",
   "metadata": {},
   "source": [
    "* find() method is used to find the index of a substring in a string.\n",
    "*  It returns the index of the first occurrence of the substring, or -1 if the substring is not found in the string."
   ]
  },
  {
   "cell_type": "code",
   "execution_count": 2,
   "id": "d8b9b498",
   "metadata": {},
   "outputs": [
    {
     "data": {
      "text/plain": [
       "\"Data science involves data collection, analysis, and interpretation to make informed decisions. It plays a critical role in today's data-driven world, helping businesses optimize operations and predict trends. Its applications are diverse, impacting fields such as finance, healthcare, and technology.\""
      ]
     },
     "execution_count": 2,
     "metadata": {},
     "output_type": "execute_result"
    }
   ],
   "source": [
    "a=\"Data science involves data collection, analysis, and interpretation to make informed decisions. It plays a critical role in today's data-driven world, helping businesses optimize operations and predict trends. Its applications are diverse, impacting fields such as finance, healthcare, and technology.\"\n",
    "a"
   ]
  },
  {
   "cell_type": "code",
   "execution_count": 6,
   "id": "167b4180",
   "metadata": {},
   "outputs": [
    {
     "data": {
      "text/plain": [
       "22"
      ]
     },
     "execution_count": 6,
     "metadata": {},
     "output_type": "execute_result"
    }
   ],
   "source": [
    "a.find('d')"
   ]
  },
  {
   "cell_type": "code",
   "execution_count": 7,
   "id": "4c8b5041",
   "metadata": {},
   "outputs": [
    {
     "data": {
      "text/plain": [
       "1"
      ]
     },
     "execution_count": 7,
     "metadata": {},
     "output_type": "execute_result"
    }
   ],
   "source": [
    "a.find('a')"
   ]
  },
  {
   "cell_type": "markdown",
   "id": "04ed53a1",
   "metadata": {},
   "source": [
    "###### string.find(substring, start, end)\n"
   ]
  },
  {
   "cell_type": "code",
   "execution_count": 11,
   "id": "72cd8506",
   "metadata": {},
   "outputs": [
    {
     "data": {
      "text/plain": [
       "34"
      ]
     },
     "execution_count": 11,
     "metadata": {},
     "output_type": "execute_result"
    }
   ],
   "source": [
    "a.find('i',20) find() start from index 20 onwards"
   ]
  },
  {
   "cell_type": "code",
   "execution_count": 12,
   "id": "d1c49c43",
   "metadata": {},
   "outputs": [
    {
     "data": {
      "text/plain": [
       "-1"
      ]
     },
     "execution_count": 12,
     "metadata": {},
     "output_type": "execute_result"
    }
   ],
   "source": [
    "a.find('f',10,30)  "
   ]
  },
  {
   "cell_type": "code",
   "execution_count": 26,
   "id": "4b269b7d",
   "metadata": {},
   "outputs": [
    {
     "data": {
      "text/plain": [
       "10"
      ]
     },
     "execution_count": 26,
     "metadata": {},
     "output_type": "execute_result"
    }
   ],
   "source": [
    "a.find('c',10,20)\n"
   ]
  },
  {
   "cell_type": "markdown",
   "id": "89e23963",
   "metadata": {},
   "source": [
    "## rfind():"
   ]
  },
  {
   "cell_type": "markdown",
   "id": "cbf17725",
   "metadata": {},
   "source": [
    "* rfind() used to find the highest (rightmost) index at which a specified substring is found within a string. \n",
    "* If the substring is not found, it returns -1"
   ]
  },
  {
   "cell_type": "code",
   "execution_count": 33,
   "id": "82ef0eb6",
   "metadata": {},
   "outputs": [
    {
     "data": {
      "text/plain": [
       "'Hello, welcome to my world.'"
      ]
     },
     "execution_count": 33,
     "metadata": {},
     "output_type": "execute_result"
    }
   ],
   "source": [
    "x=\"Hello, welcome to my world.\"\n",
    "x"
   ]
  },
  {
   "cell_type": "code",
   "execution_count": 39,
   "id": "28ad6b7f",
   "metadata": {},
   "outputs": [
    {
     "data": {
      "text/plain": [
       "13"
      ]
     },
     "execution_count": 39,
     "metadata": {},
     "output_type": "execute_result"
    }
   ],
   "source": [
    "x.rfind('e')"
   ]
  },
  {
   "cell_type": "markdown",
   "id": "1a86ec29",
   "metadata": {},
   "source": [
    "#### string.rfind(substring, start, end)\n"
   ]
  },
  {
   "cell_type": "code",
   "execution_count": 47,
   "id": "2547252f",
   "metadata": {},
   "outputs": [
    {
     "data": {
      "text/plain": [
       "21"
      ]
     },
     "execution_count": 47,
     "metadata": {},
     "output_type": "execute_result"
    }
   ],
   "source": [
    "x.rfind('w',2)"
   ]
  },
  {
   "cell_type": "code",
   "execution_count": 41,
   "id": "9bf912c4",
   "metadata": {},
   "outputs": [
    {
     "data": {
      "text/plain": [
       "8"
      ]
     },
     "execution_count": 41,
     "metadata": {},
     "output_type": "execute_result"
    }
   ],
   "source": [
    "x.rfind(\"e\",6,11)"
   ]
  },
  {
   "cell_type": "code",
   "execution_count": 46,
   "id": "1dd96ce5",
   "metadata": {},
   "outputs": [
    {
     "data": {
      "text/plain": [
       "12"
      ]
     },
     "execution_count": 46,
     "metadata": {},
     "output_type": "execute_result"
    }
   ],
   "source": [
    "x.rfind(\"m\",8,15)"
   ]
  },
  {
   "cell_type": "markdown",
   "id": "5f043571",
   "metadata": {},
   "source": [
    "# count():"
   ]
  },
  {
   "cell_type": "markdown",
   "id": "004b1472",
   "metadata": {},
   "source": [
    "* The count() functions return the numbers of times a specified values appears in the string"
   ]
  },
  {
   "cell_type": "code",
   "execution_count": 15,
   "id": "1b3d6556",
   "metadata": {},
   "outputs": [
    {
     "data": {
      "text/plain": [
       "2"
      ]
     },
     "execution_count": 15,
     "metadata": {},
     "output_type": "execute_result"
    }
   ],
   "source": [
    "s=\"MISSISSIPPI\"\n",
    "s.count(\"P\")"
   ]
  },
  {
   "cell_type": "code",
   "execution_count": 17,
   "id": "fb22198f",
   "metadata": {},
   "outputs": [
    {
     "data": {
      "text/plain": [
       "4"
      ]
     },
     "execution_count": 17,
     "metadata": {},
     "output_type": "execute_result"
    }
   ],
   "source": [
    "s.count(\"S\")"
   ]
  },
  {
   "cell_type": "code",
   "execution_count": 24,
   "id": "771c1a00",
   "metadata": {},
   "outputs": [
    {
     "data": {
      "text/plain": [
       "2"
      ]
     },
     "execution_count": 24,
     "metadata": {},
     "output_type": "execute_result"
    }
   ],
   "source": [
    "s.count('P',6,10)"
   ]
  },
  {
   "cell_type": "code",
   "execution_count": 25,
   "id": "0be50644",
   "metadata": {},
   "outputs": [
    {
     "data": {
      "text/plain": [
       "3"
      ]
     },
     "execution_count": 25,
     "metadata": {},
     "output_type": "execute_result"
    }
   ],
   "source": [
    "l=[1,2,4,2,1,2,3,4,1]\n",
    "l.count(2)"
   ]
  },
  {
   "cell_type": "markdown",
   "id": "6f263251",
   "metadata": {},
   "source": [
    "# index():"
   ]
  },
  {
   "cell_type": "markdown",
   "id": "7942a407",
   "metadata": {},
   "source": [
    "* This function obtains index of the specified values\n",
    "* If the specified values doesnot exist the we get value Error\n",
    "* It is similar to the find() method, but with one key difference: if the element or substring is not found, index() raises a ValueError"
   ]
  },
  {
   "cell_type": "code",
   "execution_count": 48,
   "id": "0e621172",
   "metadata": {},
   "outputs": [
    {
     "data": {
      "text/plain": [
       "1"
      ]
     },
     "execution_count": 48,
     "metadata": {},
     "output_type": "execute_result"
    }
   ],
   "source": [
    "s=\"python\"\n",
    "s.index(\"y\")"
   ]
  },
  {
   "cell_type": "code",
   "execution_count": 49,
   "id": "97436edd",
   "metadata": {},
   "outputs": [
    {
     "data": {
      "text/plain": [
       "5"
      ]
     },
     "execution_count": 49,
     "metadata": {},
     "output_type": "execute_result"
    }
   ],
   "source": [
    "s.index(\"n\")"
   ]
  },
  {
   "cell_type": "code",
   "execution_count": 50,
   "id": "ed0addee",
   "metadata": {},
   "outputs": [
    {
     "ename": "ValueError",
     "evalue": "substring not found",
     "output_type": "error",
     "traceback": [
      "\u001b[1;31m---------------------------------------------------------------------------\u001b[0m",
      "\u001b[1;31mValueError\u001b[0m                                Traceback (most recent call last)",
      "\u001b[1;32m~\\AppData\\Local\\Temp\\ipykernel_18696\\455055021.py\u001b[0m in \u001b[0;36m<module>\u001b[1;34m\u001b[0m\n\u001b[1;32m----> 1\u001b[1;33m \u001b[0ms\u001b[0m\u001b[1;33m.\u001b[0m\u001b[0mindex\u001b[0m\u001b[1;33m(\u001b[0m\u001b[1;34m\"a\"\u001b[0m\u001b[1;33m)\u001b[0m\u001b[1;33m\u001b[0m\u001b[1;33m\u001b[0m\u001b[0m\n\u001b[0m",
      "\u001b[1;31mValueError\u001b[0m: substring not found"
     ]
    }
   ],
   "source": [
    "s.index(\"a\")"
   ]
  },
  {
   "cell_type": "code",
   "execution_count": 51,
   "id": "58af7158",
   "metadata": {},
   "outputs": [
    {
     "data": {
      "text/plain": [
       "3"
      ]
     },
     "execution_count": 51,
     "metadata": {},
     "output_type": "execute_result"
    }
   ],
   "source": [
    "l=['python',25.5,40,True]\n",
    "l.index(True)"
   ]
  },
  {
   "cell_type": "markdown",
   "id": "91d26ca9",
   "metadata": {},
   "source": [
    "## rindex():"
   ]
  },
  {
   "cell_type": "markdown",
   "id": "0968dbf1",
   "metadata": {},
   "source": [
    "* This Function obtains index of last occurrence of the specified element or substring.\n",
    "* If the specified values doesnot exist then we get value error"
   ]
  },
  {
   "cell_type": "markdown",
   "id": "cb9814df",
   "metadata": {},
   "source": [
    "##### string.rindex(substring, start, end)\n"
   ]
  },
  {
   "cell_type": "code",
   "execution_count": 55,
   "id": "7b1f1075",
   "metadata": {},
   "outputs": [
    {
     "data": {
      "text/plain": [
       "'python programming language'"
      ]
     },
     "execution_count": 55,
     "metadata": {},
     "output_type": "execute_result"
    }
   ],
   "source": [
    "v=\"python programming language\"\n",
    "v"
   ]
  },
  {
   "cell_type": "code",
   "execution_count": 57,
   "id": "33c27934",
   "metadata": {},
   "outputs": [
    {
     "data": {
      "text/plain": [
       "21"
      ]
     },
     "execution_count": 57,
     "metadata": {},
     "output_type": "execute_result"
    }
   ],
   "source": [
    "v.rindex(\"n\")"
   ]
  },
  {
   "cell_type": "code",
   "execution_count": 60,
   "id": "41f13353",
   "metadata": {},
   "outputs": [
    {
     "data": {
      "text/plain": [
       "24"
      ]
     },
     "execution_count": 60,
     "metadata": {},
     "output_type": "execute_result"
    }
   ],
   "source": [
    "v.rindex(\"a\",10,25)"
   ]
  },
  {
   "cell_type": "markdown",
   "id": "097d1462",
   "metadata": {},
   "source": [
    "### replace():"
   ]
  },
  {
   "cell_type": "markdown",
   "id": "7d715e28",
   "metadata": {},
   "source": [
    "* The replace() method replaces a specified phrase with another specified phrase.\n",
    "* If the substring not exist then it give entire string"
   ]
  },
  {
   "cell_type": "code",
   "execution_count": 69,
   "id": "ec76c4b5",
   "metadata": {},
   "outputs": [
    {
     "data": {
      "text/plain": [
       "'python programming language'"
      ]
     },
     "execution_count": 69,
     "metadata": {},
     "output_type": "execute_result"
    }
   ],
   "source": [
    "v=\"python programming language\"\n",
    "v"
   ]
  },
  {
   "cell_type": "markdown",
   "id": "c2f8d0f1",
   "metadata": {},
   "source": [
    "**new_string = original_string.replace(old_substring, new_substring, count)**\n"
   ]
  },
  {
   "cell_type": "code",
   "execution_count": 82,
   "id": "585cc1fd",
   "metadata": {},
   "outputs": [
    {
     "data": {
      "text/plain": [
       "'Python Programming language'"
      ]
     },
     "execution_count": 82,
     "metadata": {},
     "output_type": "execute_result"
    }
   ],
   "source": [
    "b=v.replace('p','P')\n",
    "b"
   ]
  },
  {
   "cell_type": "code",
   "execution_count": 84,
   "id": "3c8b551b",
   "metadata": {},
   "outputs": [
    {
     "data": {
      "text/plain": [
       "'mississippi'"
      ]
     },
     "execution_count": 84,
     "metadata": {},
     "output_type": "execute_result"
    }
   ],
   "source": [
    "t=\"mississippi\"\n",
    "t"
   ]
  },
  {
   "cell_type": "code",
   "execution_count": 85,
   "id": "27406711",
   "metadata": {},
   "outputs": [
    {
     "data": {
      "text/plain": [
       "'miSSissippi'"
      ]
     },
     "execution_count": 85,
     "metadata": {},
     "output_type": "execute_result"
    }
   ],
   "source": [
    "t.replace('s','S',2)"
   ]
  },
  {
   "cell_type": "code",
   "execution_count": 87,
   "id": "5692b5f3",
   "metadata": {},
   "outputs": [
    {
     "data": {
      "text/plain": [
       "'mississippi'"
      ]
     },
     "execution_count": 87,
     "metadata": {},
     "output_type": "execute_result"
    }
   ],
   "source": [
    "t.replace(\"z\",\"Z\")"
   ]
  },
  {
   "cell_type": "markdown",
   "id": "0147a8c9",
   "metadata": {},
   "source": [
    "### split():"
   ]
  },
  {
   "cell_type": "markdown",
   "id": "bdf030cd",
   "metadata": {},
   "source": [
    "* This Function is used for splitting the give string data into different words base specified delimter(- , _ ,#,%,^,;,...etc)\n",
    "* The default delimeter is space\n",
    "* The function return splitting data in to form of list object"
   ]
  },
  {
   "cell_type": "code",
   "execution_count": 102,
   "id": "1bd673dd",
   "metadata": {},
   "outputs": [
    {
     "data": {
      "text/plain": [
       "'python is an oop language'"
      ]
     },
     "execution_count": 102,
     "metadata": {},
     "output_type": "execute_result"
    }
   ],
   "source": [
    "s=\"python is an oop language\"\n",
    "s"
   ]
  },
  {
   "cell_type": "code",
   "execution_count": 103,
   "id": "2821b5f9",
   "metadata": {},
   "outputs": [
    {
     "data": {
      "text/plain": [
       "['python', 'is', 'an', 'oop', 'language']"
      ]
     },
     "execution_count": 103,
     "metadata": {},
     "output_type": "execute_result"
    }
   ],
   "source": [
    "s.split()"
   ]
  },
  {
   "cell_type": "code",
   "execution_count": 95,
   "id": "58cf0503",
   "metadata": {},
   "outputs": [
    {
     "data": {
      "text/plain": [
       "['19', '10', '2023']"
      ]
     },
     "execution_count": 95,
     "metadata": {},
     "output_type": "execute_result"
    }
   ],
   "source": [
    "s=\"19-10-2023\"\n",
    "s.split('-')"
   ]
  },
  {
   "cell_type": "code",
   "execution_count": 93,
   "id": "7bd57c14",
   "metadata": {},
   "outputs": [
    {
     "data": {
      "text/plain": [
       "'APPLE%BANANA%KIWI'"
      ]
     },
     "execution_count": 93,
     "metadata": {},
     "output_type": "execute_result"
    }
   ],
   "source": [
    "c=\"APPLE%BANANA%KIWI\"\n",
    "c"
   ]
  },
  {
   "cell_type": "code",
   "execution_count": 96,
   "id": "23351237",
   "metadata": {},
   "outputs": [
    {
     "data": {
      "text/plain": [
       "['APPLE', 'BANANA', 'KIWI']"
      ]
     },
     "execution_count": 96,
     "metadata": {},
     "output_type": "execute_result"
    }
   ],
   "source": [
    "c.split('%')"
   ]
  },
  {
   "cell_type": "code",
   "execution_count": 97,
   "id": "d18a1a4d",
   "metadata": {},
   "outputs": [
    {
     "data": {
      "text/plain": [
       "'This Function is used for splitting the give string data into different words base specified delimter'"
      ]
     },
     "execution_count": 97,
     "metadata": {},
     "output_type": "execute_result"
    }
   ],
   "source": [
    "s=\"This Function is used for splitting the give string data into different words base specified delimter\"\n",
    "s"
   ]
  },
  {
   "cell_type": "code",
   "execution_count": 98,
   "id": "6ec0df9d",
   "metadata": {},
   "outputs": [
    {
     "data": {
      "text/plain": [
       "['This',\n",
       " 'Function',\n",
       " 'is used for splitting the give string data into different words base specified delimter']"
      ]
     },
     "execution_count": 98,
     "metadata": {},
     "output_type": "execute_result"
    }
   ],
   "source": [
    "s.split(maxsplit=2)"
   ]
  },
  {
   "cell_type": "code",
   "execution_count": 99,
   "id": "02855221",
   "metadata": {},
   "outputs": [
    {
     "data": {
      "text/plain": [
       "['This',\n",
       " 'Function',\n",
       " 'is',\n",
       " 'used',\n",
       " 'for',\n",
       " 'splitting the give string data into different words base specified delimter']"
      ]
     },
     "execution_count": 99,
     "metadata": {},
     "output_type": "execute_result"
    }
   ],
   "source": [
    "s.split(maxsplit=5)"
   ]
  },
  {
   "cell_type": "markdown",
   "id": "c8271be4",
   "metadata": {},
   "source": [
    "### rsplit():"
   ]
  },
  {
   "cell_type": "markdown",
   "id": "cefed099",
   "metadata": {},
   "source": [
    "* This Function is used for splitting the give string data into different words base specified delimter\n",
    "* The only difference between the split() and rsplit() is when the maxsplit parameter is specified. If the maxsplit parameter is specified, then the rsplit() method starts splitting a string from the right side (from the last character), whereas the split() method starts splitting from the left side (from the first character)."
   ]
  },
  {
   "cell_type": "code",
   "execution_count": 101,
   "id": "bce18047",
   "metadata": {},
   "outputs": [
    {
     "data": {
      "text/plain": [
       "'python is an oop language'"
      ]
     },
     "execution_count": 101,
     "metadata": {},
     "output_type": "execute_result"
    }
   ],
   "source": [
    "s=\"python is an oop language\"\n",
    "s"
   ]
  },
  {
   "cell_type": "code",
   "execution_count": 104,
   "id": "f2e5127b",
   "metadata": {},
   "outputs": [
    {
     "data": {
      "text/plain": [
       "['python', 'is', 'an', 'oop', 'language']"
      ]
     },
     "execution_count": 104,
     "metadata": {},
     "output_type": "execute_result"
    }
   ],
   "source": [
    "s.rsplit()"
   ]
  },
  {
   "cell_type": "code",
   "execution_count": 105,
   "id": "14f04f9e",
   "metadata": {},
   "outputs": [
    {
     "data": {
      "text/plain": [
       "['python is an', 'oop', 'language']"
      ]
     },
     "execution_count": 105,
     "metadata": {},
     "output_type": "execute_result"
    }
   ],
   "source": [
    "s.rsplit(maxsplit=2)"
   ]
  },
  {
   "cell_type": "markdown",
   "id": "c606a3f9",
   "metadata": {},
   "source": [
    "#### partition():"
   ]
  },
  {
   "cell_type": "markdown",
   "id": "bd2a48b6",
   "metadata": {},
   "source": [
    "* This function splits the string at the first occurrence of the specified separator argument and returns a tuple containing the part before the separator,\n",
    "* If the specified separator is not found, then the partition() function returns the string itself as a first element and two empty string elements."
   ]
  },
  {
   "cell_type": "code",
   "execution_count": 106,
   "id": "387c6062",
   "metadata": {},
   "outputs": [
    {
     "data": {
      "text/plain": [
       "'How are you?'"
      ]
     },
     "execution_count": 106,
     "metadata": {},
     "output_type": "execute_result"
    }
   ],
   "source": [
    "a=\"How are you?\"\n",
    "a"
   ]
  },
  {
   "cell_type": "code",
   "execution_count": 108,
   "id": "30f7d272",
   "metadata": {},
   "outputs": [
    {
     "data": {
      "text/plain": [
       "('How ', 'are', ' you?')"
      ]
     },
     "execution_count": 108,
     "metadata": {},
     "output_type": "execute_result"
    }
   ],
   "source": [
    "a.partition('are')"
   ]
  },
  {
   "cell_type": "code",
   "execution_count": 110,
   "id": "fa132e60",
   "metadata": {},
   "outputs": [
    {
     "data": {
      "text/plain": [
       "('How are ', 'you', '?')"
      ]
     },
     "execution_count": 110,
     "metadata": {},
     "output_type": "execute_result"
    }
   ],
   "source": [
    "a.partition('you')"
   ]
  },
  {
   "cell_type": "code",
   "execution_count": 111,
   "id": "291237b3",
   "metadata": {},
   "outputs": [
    {
     "data": {
      "text/plain": [
       "('How are you?', '', '')"
      ]
     },
     "execution_count": 111,
     "metadata": {},
     "output_type": "execute_result"
    }
   ],
   "source": [
    "a.partition('x')"
   ]
  },
  {
   "cell_type": "markdown",
   "id": "5a676b7e",
   "metadata": {},
   "source": [
    "#### rpartition():"
   ]
  },
  {
   "cell_type": "markdown",
   "id": "e74ac2e7",
   "metadata": {},
   "source": [
    "* this function searches for the last occurrence of a specified string, and splits the string into a tuple containing three elements."
   ]
  },
  {
   "cell_type": "code",
   "execution_count": 112,
   "id": "0e1de066",
   "metadata": {},
   "outputs": [
    {
     "data": {
      "text/plain": [
       "'How are you?'"
      ]
     },
     "execution_count": 112,
     "metadata": {},
     "output_type": "execute_result"
    }
   ],
   "source": [
    "b=\"How are you?\"\n",
    "b"
   ]
  },
  {
   "cell_type": "code",
   "execution_count": 113,
   "id": "29ec36ab",
   "metadata": {},
   "outputs": [
    {
     "data": {
      "text/plain": [
       "('How ', 'are', ' you?')"
      ]
     },
     "execution_count": 113,
     "metadata": {},
     "output_type": "execute_result"
    }
   ],
   "source": [
    "b.partition(\"are\")"
   ]
  },
  {
   "cell_type": "code",
   "execution_count": 114,
   "id": "98da36c4",
   "metadata": {},
   "outputs": [
    {
     "data": {
      "text/plain": [
       "('', '', 'How are you?')"
      ]
     },
     "execution_count": 114,
     "metadata": {},
     "output_type": "execute_result"
    }
   ],
   "source": [
    "b.rpartition('p')"
   ]
  },
  {
   "cell_type": "markdown",
   "id": "76266e28",
   "metadata": {},
   "source": [
    "#### splitlines():"
   ]
  },
  {
   "cell_type": "markdown",
   "id": "707de9cc",
   "metadata": {},
   "source": [
    "* The splitlines() method splits the string at line breaks and returns a list.."
   ]
  },
  {
   "cell_type": "code",
   "execution_count": 115,
   "id": "e3eeaa70",
   "metadata": {},
   "outputs": [],
   "source": [
    "d=\"The serene beach at sunset painted a breathtaking scene with its golden hues reflecting on the calm, azure waters. The gentle, rhythmic sound of waves provided a soothing melody to the evening. As the sun dipped below the horizon, it marked the end of another perfect day by the sea\""
   ]
  },
  {
   "cell_type": "code",
   "execution_count": 116,
   "id": "ae88912e",
   "metadata": {},
   "outputs": [
    {
     "data": {
      "text/plain": [
       "'The serene beach at sunset painted a breathtaking scene with its golden hues reflecting on the calm, azure waters. The gentle, rhythmic sound of waves provided a soothing melody to the evening. As the sun dipped below the horizon, it marked the end of another perfect day by the sea'"
      ]
     },
     "execution_count": 116,
     "metadata": {},
     "output_type": "execute_result"
    }
   ],
   "source": [
    "d"
   ]
  },
  {
   "cell_type": "code",
   "execution_count": 118,
   "id": "1b903647",
   "metadata": {},
   "outputs": [
    {
     "data": {
      "text/plain": [
       "['The serene beach at sunset painted a breathtaking scene with its golden hues reflecting on the calm, azure waters. The gentle, rhythmic sound of waves provided a soothing melody to the evening. As the sun dipped below the horizon, it marked the end of another perfect day by the sea']"
      ]
     },
     "execution_count": 118,
     "metadata": {},
     "output_type": "execute_result"
    }
   ],
   "source": [
    "d.splitlines()"
   ]
  },
  {
   "cell_type": "code",
   "execution_count": null,
   "id": "26b34e31",
   "metadata": {},
   "outputs": [],
   "source": []
  }
 ],
 "metadata": {
  "kernelspec": {
   "display_name": "Python 3 (ipykernel)",
   "language": "python",
   "name": "python3"
  },
  "language_info": {
   "codemirror_mode": {
    "name": "ipython",
    "version": 3
   },
   "file_extension": ".py",
   "mimetype": "text/x-python",
   "name": "python",
   "nbconvert_exporter": "python",
   "pygments_lexer": "ipython3",
   "version": "3.9.13"
  }
 },
 "nbformat": 4,
 "nbformat_minor": 5
}
